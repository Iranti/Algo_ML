{
 "cells": [
  {
   "cell_type": "markdown",
   "metadata": {},
   "source": [
    "#### Сгенерировать датасет при помощи sklearn.datasets.make_regression и обучить линейную модель при помощи градиентного и стохастического градиентного спуска. Нанести среднеквадратичную ошибку для обоих методов на один график, сделать выводы о разнице скорости сходимости каждого из методов."
   ]
  },
  {
   "cell_type": "code",
   "execution_count": 1,
   "metadata": {},
   "outputs": [],
   "source": [
    "import numpy as np\n",
    "import matplotlib.pyplot as plt"
   ]
  },
  {
   "cell_type": "code",
   "execution_count": 2,
   "metadata": {},
   "outputs": [],
   "source": [
    "from sklearn import datasets"
   ]
  },
  {
   "cell_type": "code",
   "execution_count": 3,
   "metadata": {},
   "outputs": [],
   "source": [
    "# сгенерируем набор данных\n",
    "data, target, coef = datasets.make_regression(n_samples=10000, n_features = 2, n_informative = 2, n_targets = 1, \n",
    "                                              noise = 7, coef = True, random_state = 2)"
   ]
  },
  {
   "cell_type": "code",
   "execution_count": 4,
   "metadata": {},
   "outputs": [
    {
     "data": {
      "text/plain": [
       "array([[-2.75161769e-01,  3.88051923e-01],\n",
       "       [-7.39931870e-01,  6.41540019e-01],\n",
       "       [ 1.73259956e+00,  1.38746003e+00],\n",
       "       ...,\n",
       "       [ 9.95690738e-02,  1.14050425e+00],\n",
       "       [ 5.72821025e-01, -1.62061166e-03],\n",
       "       [-8.10975181e-01, -7.90286210e-01]])"
      ]
     },
     "execution_count": 4,
     "metadata": {},
     "output_type": "execute_result"
    }
   ],
   "source": [
    "data"
   ]
  },
  {
   "cell_type": "code",
   "execution_count": 5,
   "metadata": {},
   "outputs": [
    {
     "data": {
      "text/plain": [
       "array([47.46102593,  1.66486956])"
      ]
     },
     "execution_count": 5,
     "metadata": {},
     "output_type": "execute_result"
    }
   ],
   "source": [
    "coef"
   ]
  },
  {
   "cell_type": "code",
   "execution_count": 6,
   "metadata": {},
   "outputs": [],
   "source": [
    "# средние значения и стандартное отклонение по столбцам\n",
    " \n",
    "means = np.mean(data, axis=0)\n",
    "stds = np.std(data, axis=0)\n",
    "# параметр axis указывается для вычисления значений по столбцам, а не по всему массиву\n",
    "#(см. документацию в разделе источников)\n",
    " \n",
    "# вычтем каждое значение признака из среднего и поделим на стандартное отклонение\n",
    "for i in range(data.shape[0]):\n",
    "    for j in range(data.shape[1]):\n",
    "        data[i][j] = (data[i][j] - means[j])/stds[j]"
   ]
  },
  {
   "cell_type": "code",
   "execution_count": 7,
   "metadata": {},
   "outputs": [
    {
     "data": {
      "text/plain": [
       "array([ 0.00125508, -0.002508  ])"
      ]
     },
     "execution_count": 7,
     "metadata": {},
     "output_type": "execute_result"
    }
   ],
   "source": [
    "means"
   ]
  },
  {
   "cell_type": "code",
   "execution_count": 8,
   "metadata": {},
   "outputs": [
    {
     "data": {
      "text/plain": [
       "array([0.99518458, 1.01311336])"
      ]
     },
     "execution_count": 8,
     "metadata": {},
     "output_type": "execute_result"
    }
   ],
   "source": [
    "stds"
   ]
  },
  {
   "cell_type": "code",
   "execution_count": 9,
   "metadata": {},
   "outputs": [
    {
     "data": {
      "text/plain": [
       "array([[-2.77754356e-01,  3.85504659e-01],\n",
       "       [-7.44773351e-01,  6.35711699e-01],\n",
       "       [ 1.73972197e+00,  1.37197680e+00],\n",
       "       ...,\n",
       "       [ 9.87897050e-02,  1.12821753e+00],\n",
       "       [ 5.74331592e-01,  8.75901031e-04],\n",
       "       [-8.16160421e-01, -7.77581502e-01]])"
      ]
     },
     "execution_count": 9,
     "metadata": {},
     "output_type": "execute_result"
    }
   ],
   "source": [
    "data"
   ]
  },
  {
   "cell_type": "code",
   "execution_count": 10,
   "metadata": {},
   "outputs": [],
   "source": [
    "# реализуем функцию, определяющую среднеквадратичную ошибку\n",
    "def mserror(X, w, y_pred):\n",
    "    y = X.dot(w)\n",
    "    return (sum((y - y_pred)**2)) / len(y)"
   ]
  },
  {
   "cell_type": "code",
   "execution_count": 11,
   "metadata": {},
   "outputs": [],
   "source": [
    "def classic_grade(data, target, eta):\n",
    "\n",
    "    # инициализируем начальный вектор весов\n",
    "    w = np.zeros(2)\n",
    " \n",
    "    # список векторов весов после каждой итерации\n",
    "    w_list = [w.copy()]\n",
    " \n",
    "    # список значений ошибок после каждой итерации\n",
    "    global errors \n",
    "    errors = []\n",
    " \n",
    "    # шаг градиентного спуска\n",
    "    #eta = 0.5\n",
    " \n",
    "    # максимальное число итераций\n",
    "    max_iter = 1e5\n",
    " \n",
    "    # критерий сходимости (разница весов, при которой алгоритм останавливается)\n",
    "    min_weight_dist = 1e-8\n",
    " \n",
    "    # зададим начальную разницу весов большим числом\n",
    "    weight_dist = np.inf\n",
    " \n",
    "    # счетчик итераций\n",
    "    iter_num = 0\n",
    " \n",
    "    np.random.seed(1234)\n",
    " \n",
    "    # ход градиентного спуска\n",
    "    while weight_dist > min_weight_dist and iter_num < max_iter:\n",
    "    \n",
    "        # генерируем случайный индекс объекта выборки\n",
    "        train_ind = np.random.randint(data.shape[0])\n",
    "    \n",
    "        new_w = w - 2 * eta * np.dot(data[train_ind].T, (np.dot(data[train_ind], w) - target[train_ind])) / target.shape[0]\n",
    " \n",
    "        weight_dist = np.linalg.norm(new_w - w, ord=2)\n",
    "    \n",
    "        w_list.append(new_w.copy())\n",
    "        errors.append(mserror(data, new_w, target))\n",
    "    \n",
    "        iter_num += 1\n",
    "        w = new_w\n",
    "    \n",
    "    w_list = np.array(w_list)\n",
    " \n",
    "    print(f'В случае использования стохастического градиентного спуска функционал ошибки составляет {round(errors[-1], 4)}')"
   ]
  },
  {
   "cell_type": "code",
   "execution_count": 12,
   "metadata": {},
   "outputs": [],
   "source": [
    "def descend_grade(data, target, eta, dim):\n",
    "\n",
    "    # инициализируем начальный вектор весов\n",
    "    w_2 = np.zeros(dim)\n",
    " \n",
    "    # список векторов весов после каждой итерации\n",
    "    w_2_list = [w_2.copy()]\n",
    " \n",
    "    # список значений ошибок после каждой итерации\n",
    "    global errors_2\n",
    "    errors_2 = []\n",
    " \n",
    "    # шаг градиентного спуска\n",
    "    #eta = 0.5\n",
    " \n",
    "    # максимальное число итераций\n",
    "    max_iter = 1e5\n",
    " \n",
    "    # критерий сходимости (разница весов, при которой алгоритм останавливается)\n",
    "    min_weight_dist = 1e-8\n",
    " \n",
    "    # зададим начальную разницу весов большим числом\n",
    "    weight_dist = np.inf\n",
    " \n",
    "    # счетчик итераций\n",
    "    iter_num = 0\n",
    " \n",
    "    np.random.seed(1234)\n",
    " \n",
    "    # ход градиентного спуска\n",
    "    while weight_dist > min_weight_dist and iter_num < max_iter:\n",
    "    \n",
    "        new_w_2 = w_2 - 2 * eta * np.dot(data.T, (np.dot(data, w_2) - target)) / target.shape[0]\n",
    "        weight_dist = np.linalg.norm(new_w_2 - w_2, ord=2)\n",
    "    \n",
    "        w_2_list.append(new_w_2.copy())\n",
    "        errors_2.append(mserror(data, new_w_2, target))\n",
    "    \n",
    "        iter_num += 1\n",
    "        w_2 = new_w_2\n",
    "        print(iter_num, mserror(data, new_w_2, target), eta)\n",
    "    \n",
    "    w_2_list = np.array(w_2_list)\n",
    " \n",
    "    print(f'В случае использования градиентного спуска функционал ошибки составляет {round(errors_2[-1], 4)}')"
   ]
  },
  {
   "cell_type": "code",
   "execution_count": 13,
   "metadata": {},
   "outputs": [
    {
     "name": "stdout",
     "output_type": "stream",
     "text": [
      "В случае использования стохастического градиентного спуска функционал ошибки составляет 49.3459\n"
     ]
    }
   ],
   "source": [
    "classic_grade(data, target, 0.5)"
   ]
  },
  {
   "cell_type": "code",
   "execution_count": 14,
   "metadata": {},
   "outputs": [
    {
     "name": "stdout",
     "output_type": "stream",
     "text": [
      "1 49.72346129847741 0.5\n",
      "2 49.342480891283145 0.5\n",
      "3 49.34241603431798 0.5\n",
      "4 49.342416023277046 0.5\n",
      "5 49.34241602327515 0.5\n",
      "6 49.342416023275 0.5\n",
      "7 49.342416023275085 0.5\n",
      "В случае использования градиентного спуска функционал ошибки составляет 49.3424\n"
     ]
    }
   ],
   "source": [
    "descend_grade(data, target, 0.5, 2)"
   ]
  },
  {
   "cell_type": "code",
   "execution_count": 15,
   "metadata": {},
   "outputs": [
    {
     "data": {
      "text/plain": [
       "Text(0, 0.5, 'MSE')"
      ]
     },
     "execution_count": 15,
     "metadata": {},
     "output_type": "execute_result"
    },
    {
     "data": {
      "image/png": "[encoded data removed]",
      "text/plain": [
       "<Figure size 432x288 with 1 Axes>"
      ]
     },
     "metadata": {
      "needs_background": "light"
     },
     "output_type": "display_data"
    }
   ],
   "source": [
    "# Визуализируем изменение функционала ошибки\n",
    "plt.plot(range(len(errors)), errors, c='r')\n",
    "plt.plot(range(len(errors_2)), errors_2,  c='g')\n",
    "plt.title('MSE')\n",
    "plt.xlabel('Iteration number')\n",
    "plt.ylabel('MSE')"
   ]
  },
  {
   "cell_type": "code",
   "execution_count": 16,
   "metadata": {},
   "outputs": [
    {
     "data": {
      "text/plain": [
       "Text(0, 0.5, 'MSE 2')"
      ]
     },
     "execution_count": 16,
     "metadata": {},
     "output_type": "execute_result"
    },
    {
     "data": {
      "image/png": "[encoded data removed]",
      "text/plain": [
       "<Figure size 432x288 with 1 Axes>"
      ]
     },
     "metadata": {
      "needs_background": "light"
     },
     "output_type": "display_data"
    }
   ],
   "source": [
    "# Визуализируем изменение функционала ошибки\n",
    "plt.plot(range(len(errors_2)), errors_2)\n",
    "plt.title('MSE 2')\n",
    "plt.xlabel('Iteration number 2')\n",
    "plt.ylabel('MSE 2')"
   ]
  },
  {
   "cell_type": "markdown",
   "metadata": {},
   "source": [
    "#### Модифицировать решение первого задания путем добавления  𝐿2 -регуляризации (в функцию, считающую MSE, нужно добавить норму вектора весов) и сравнить результаты."
   ]
  },
  {
   "cell_type": "markdown",
   "metadata": {},
   "source": [
    "создам новую базу"
   ]
  },
  {
   "cell_type": "code",
   "execution_count": 17,
   "metadata": {},
   "outputs": [],
   "source": [
    "data2, target2, coef2 = datasets.make_regression(n_samples=10000, n_features = 10, n_informative = 2, n_targets = 1, \n",
    "                                              noise = 7, coef = True, random_state = 2)"
   ]
  },
  {
   "cell_type": "code",
   "execution_count": 18,
   "metadata": {},
   "outputs": [
    {
     "data": {
      "text/plain": [
       "array([[ 0.82438608,  1.16724453,  0.9157435 , ..., -0.83200863,\n",
       "        -0.05811773,  0.91150297],\n",
       "       [-0.37220152, -1.03124089, -1.8586448 , ...,  0.13410958,\n",
       "         0.01941105,  0.47638582],\n",
       "       [ 0.09373965,  0.0221904 ,  0.57317545, ...,  0.14760922,\n",
       "         0.34485569,  0.4873244 ],\n",
       "       ...,\n",
       "       [ 1.65173442, -0.31531491,  0.6879426 , ...,  0.16373466,\n",
       "         0.12989889,  0.78371353],\n",
       "       [ 1.27736981,  0.41058831,  0.3174659 , ...,  0.16797567,\n",
       "         0.66007136, -1.23413206],\n",
       "       [-0.75916055,  2.11623757,  1.66991013, ...,  0.57323382,\n",
       "        -1.38278087,  1.84935265]])"
      ]
     },
     "execution_count": 18,
     "metadata": {},
     "output_type": "execute_result"
    }
   ],
   "source": [
    "data2"
   ]
  },
  {
   "cell_type": "code",
   "execution_count": 19,
   "metadata": {},
   "outputs": [
    {
     "data": {
      "text/plain": [
       "array([ 0.        ,  0.        ,  0.        , 90.70102586,  0.        ,\n",
       "        0.        ,  0.        ,  0.        , 11.35058557,  0.        ])"
      ]
     },
     "execution_count": 19,
     "metadata": {},
     "output_type": "execute_result"
    }
   ],
   "source": [
    "coef2"
   ]
  },
  {
   "cell_type": "code",
   "execution_count": 20,
   "metadata": {},
   "outputs": [
    {
     "data": {
      "text/plain": [
       "array([-34.98981486,  45.46357601, -80.45258102, ..., -98.52442639,\n",
       "         8.78746983,  29.20093656])"
      ]
     },
     "execution_count": 20,
     "metadata": {},
     "output_type": "execute_result"
    }
   ],
   "source": [
    "target2"
   ]
  },
  {
   "cell_type": "code",
   "execution_count": 22,
   "metadata": {},
   "outputs": [
    {
     "name": "stdout",
     "output_type": "stream",
     "text": [
      "1 6856.659573143292 0.05\n",
      "2 5551.65829169739 0.05\n",
      "3 4497.05210048565 0.05\n",
      "4 3644.7562743908293 0.05\n",
      "5 2955.9277228182796 0.05\n",
      "6 2399.1873463659576 0.05\n",
      "7 1949.184600213773 0.05\n",
      "8 1585.4383355457333 0.05\n",
      "9 1291.4007018033753 0.05\n",
      "10 1053.7011513319233 0.05\n",
      "11 861.5358676370233 0.05\n",
      "12 706.1746211119187 0.05\n",
      "13 580.5624499933266 0.05\n",
      "14 478.99791818019395 0.05\n",
      "15 396.87321608663416 0.05\n",
      "16 330.4642078296348 0.05\n",
      "17 276.7608184396934 0.05\n",
      "18 233.3300038720293 0.05\n",
      "19 198.2050394794169 0.05\n",
      "20 169.79606795713076 0.05\n",
      "21 146.81782100921404 0.05\n",
      "22 128.23121484471855 0.05\n",
      "23 113.19615419775714 0.05\n",
      "24 101.03339201838216 0.05\n",
      "25 91.19370582668341 0.05\n",
      "26 83.23298594944546 0.05\n",
      "27 76.79210079695406 0.05\n",
      "28 71.58062236302197 0.05\n",
      "29 67.36367123541345 0.05\n",
      "30 63.95128265375112 0.05\n",
      "31 61.1898100609572 0.05\n",
      "32 58.95497542169553 0.05\n",
      "33 57.14625057382544 0.05\n",
      "34 55.68231446606192 0.05\n",
      "35 54.49738008614742 0.05\n",
      "36 53.53822443560753 0.05\n",
      "37 52.76178686578531 0.05\n",
      "38 52.13322691434859 0.05\n",
      "39 51.62435365016542 0.05\n",
      "40 51.212355399166434 0.05\n",
      "41 50.87877235347689 0.05\n",
      "42 50.608665581709126 0.05\n",
      "43 50.38994486173673 0.05\n",
      "44 50.21282495377083 0.05\n",
      "45 50.0693857487202 0.05\n",
      "46 49.953216429213384 0.05\n",
      "47 49.85912758209031 0.05\n",
      "48 49.78291827444375 0.05\n",
      "49 49.72118758996288 0.05\n",
      "50 49.67118213125669 0.05\n",
      "51 49.63067261817891 0.05\n",
      "52 49.5978540256196 0.05\n",
      "53 49.57126476634335 0.05\n",
      "54 49.54972128335879 0.05\n",
      "55 49.53226511092866 0.05\n",
      "56 49.51812002510046 0.05\n",
      "57 49.50665735902949 0.05\n",
      "58 49.497367925855926 0.05\n",
      "59 49.48983928919529 0.05\n",
      "60 49.48373736176031 0.05\n",
      "61 49.47879150718177 0.05\n",
      "62 49.47478247745939 0.05\n",
      "63 49.47153264582028 0.05\n",
      "64 49.46889809776384 0.05\n",
      "65 49.46676222644018 0.05\n",
      "66 49.46503054595518 0.05\n",
      "67 49.46362649077102 0.05\n",
      "68 49.46248801354793 0.05\n",
      "69 49.461564829512156 0.05\n",
      "70 49.46081618436984 0.05\n",
      "71 49.460209046202976 0.05\n",
      "72 49.45971664073087 0.05\n",
      "73 49.459317264670936 0.05\n",
      "74 49.45899332434353 0.05\n",
      "75 49.458730556725826 0.05\n",
      "76 49.45851739829286 0.05\n",
      "77 49.45834447358797 0.05\n",
      "78 49.45820418077554 0.05\n",
      "79 49.45809035577564 0.05\n",
      "80 49.457998000065835 0.05\n",
      "81 49.457923060063855 0.05\n",
      "82 49.45786224831323 0.05\n",
      "83 49.45781289854066 0.05\n",
      "84 49.457772848158754 0.05\n",
      "85 49.45774034302244 0.05\n",
      "86 49.45771396020508 0.05\n",
      "87 49.4576925453987 0.05\n",
      "88 49.45767516214994 0.05\n",
      "89 49.45766105070284 0.05\n",
      "90 49.457649594625856 0.05\n",
      "91 49.45764029374556 0.05\n",
      "92 49.457632742198136 0.05\n",
      "93 49.45762661062971 0.05\n",
      "94 49.45762163175841 0.05\n",
      "95 49.45761758866355 0.05\n",
      "96 49.457614305287585 0.05\n",
      "97 49.45761163873022 0.05\n",
      "98 49.45760947299749 0.05\n",
      "99 49.45760771393084 0.05\n",
      "100 49.45760628509137 0.05\n",
      "101 49.45760512442352 0.05\n",
      "102 49.45760418154408 0.05\n",
      "103 49.45760341554624 0.05\n",
      "104 49.4576027932133 0.05\n",
      "105 49.45760228757398 0.05\n",
      "106 49.457601876724794 0.05\n",
      "107 49.457601542877875 0.05\n",
      "108 49.457601271586356 0.05\n",
      "109 49.4576010511177 0.05\n",
      "110 49.457600871940855 0.05\n",
      "111 49.45760072631464 0.05\n",
      "112 49.457600607950454 0.05\n",
      "113 49.45760051173962 0.05\n",
      "114 49.45760043353166 0.05\n",
      "115 49.45760036995442 0.05\n",
      "116 49.45760031826837 0.05\n",
      "117 49.45760027624703 0.05\n",
      "118 49.457600242081945 0.05\n",
      "119 49.457600214301955 0.05\n",
      "120 49.4576001917132 0.05\n",
      "121 49.45760017334453 0.05\n",
      "122 49.45760015840656 0.05\n",
      "123 49.45760014625846 0.05\n",
      "124 49.45760013637814 0.05\n",
      "125 49.4576001283421 0.05\n",
      "126 49.45760012180534 0.05\n",
      "127 49.45760011648852 0.05\n",
      "128 49.457600112163135 0.05\n",
      "129 49.45760010864452 0.05\n",
      "130 49.457600105782 0.05\n",
      "131 49.45760010345306 0.05\n",
      "132 49.45760010155833 0.05\n",
      "133 49.457600100016315 0.05\n",
      "134 49.457600098761645 0.05\n",
      "135 49.45760009774086 0.05\n",
      "136 49.45760009690983 0.05\n",
      "137 49.45760009623364 0.05\n",
      "138 49.45760009568342 0.05\n",
      "139 49.45760009523536 0.05\n",
      "140 49.45760009487084 0.05\n",
      "141 49.45760009457401 0.05\n",
      "142 49.457600094332165 0.05\n",
      "143 49.45760009413584 0.05\n",
      "144 49.45760009397578 0.05\n",
      "145 49.45760009384517 0.05\n",
      "146 49.45760009373914 0.05\n",
      "147 49.457600093652914 0.05\n",
      "148 49.457600093582336 0.05\n",
      "149 49.45760009352501 0.05\n",
      "150 49.45760009347848 0.05\n",
      "151 49.457600093440256 0.05\n",
      "152 49.45760009340931 0.05\n",
      "153 49.45760009338402 0.05\n",
      "154 49.45760009336372 0.05\n",
      "155 49.45760009334702 0.05\n",
      "156 49.45760009333329 0.05\n",
      "157 49.457600093322235 0.05\n",
      "158 49.45760009331309 0.05\n",
      "159 49.45760009330597 0.05\n",
      "160 49.457600093299845 0.05\n",
      "161 49.45760009329502 0.05\n",
      "162 49.45760009329087 0.05\n",
      "163 49.45760009328781 0.05\n",
      "164 49.45760009328504 0.05\n",
      "165 49.457600093283 0.05\n",
      "166 49.45760009328119 0.05\n",
      "167 49.457600093279765 0.05\n",
      "168 49.45760009327859 0.05\n",
      "169 49.45760009327757 0.05\n",
      "170 49.4576000932769 0.05\n",
      "171 49.457600093275836 0.05\n",
      "172 49.45760009327567 0.05\n",
      "173 49.45760009327551 0.05\n",
      "174 49.45760009327492 0.05\n",
      "175 49.45760009327466 0.05\n",
      "176 49.45760009327447 0.05\n",
      "177 49.45760009327427 0.05\n",
      "178 49.457600093274095 0.05\n",
      "179 49.45760009327391 0.05\n",
      "180 49.45760009327385 0.05\n",
      "181 49.45760009327372 0.05\n",
      "182 49.4576000932737 0.05\n",
      "183 49.45760009327388 0.05\n",
      "184 49.45760009327351 0.05\n",
      "185 49.457600093273435 0.05\n",
      "186 49.45760009327368 0.05\n",
      "187 49.45760009327374 0.05\n",
      "188 49.457600093273584 0.05\n",
      "189 49.457600093273584 0.05\n",
      "190 49.457600093273456 0.05\n",
      "191 49.45760009327342 0.05\n",
      "192 49.45760009327358 0.05\n",
      "193 49.457600093273676 0.05\n",
      "194 49.45760009327339 0.05\n",
      "195 49.45760009327351 0.05\n",
      "196 49.45760009327339 0.05\n",
      "197 49.457600093273456 0.05\n",
      "198 49.457600093273335 0.05\n",
      "199 49.45760009327333 0.05\n",
      "200 49.45760009327339 0.05\n",
      "В случае использования градиентного спуска функционал ошибки составляет 49.4576\n"
     ]
    }
   ],
   "source": [
    "descend_grade(data2, target2, 0.05, 10)"
   ]
  },
  {
   "cell_type": "code",
   "execution_count": 23,
   "metadata": {},
   "outputs": [
    {
     "data": {
      "text/plain": [
       "Text(0, 0.5, 'MSE 3')"
      ]
     },
     "execution_count": 23,
     "metadata": {},
     "output_type": "execute_result"
    },
    {
     "data": {
      "image/png": "[encoded data removed]",
      "text/plain": [
       "<Figure size 432x288 with 1 Axes>"
      ]
     },
     "metadata": {
      "needs_background": "light"
     },
     "output_type": "display_data"
    }
   ],
   "source": [
    "# Визуализируем изменение функционала ошибки\n",
    "plt.plot(range(len(errors_2)), errors_2)\n",
    "plt.title('MSE 3')\n",
    "plt.xlabel('Iteration number 3')\n",
    "plt.ylabel('MSE 3')"
   ]
  },
  {
   "cell_type": "markdown",
   "metadata": {},
   "source": [
    "Сделаю регуляризацию L2, добавив в функцию штраф за большие веса"
   ]
  },
  {
   "cell_type": "code",
   "execution_count": 39,
   "metadata": {},
   "outputs": [],
   "source": [
    "# перепишу функцию, определяющую среднеквадратичную ошибку с регуляризацией\n",
    "def mserror_with_reg(X, w, y_pred, reg):\n",
    "    y = X.dot(w)\n",
    "    return (sum((y - y_pred)**2) / len(y)) + reg*sum(w**2)"
   ]
  },
  {
   "cell_type": "code",
   "execution_count": 40,
   "metadata": {},
   "outputs": [],
   "source": [
    "def descend_grade_with_rwg(data, target, eta, dim, reg):\n",
    "\n",
    "    # инициализируем начальный вектор весов\n",
    "    w_3 = np.zeros(dim)\n",
    " \n",
    "    # список векторов весов после каждой итерации\n",
    "    w_3_list = [w_3.copy()]\n",
    " \n",
    "    # список значений ошибок после каждой итерации\n",
    "    global errors_3\n",
    "    errors_3 = []\n",
    " \n",
    "    # максимальное число итераций\n",
    "    max_iter = 1e5\n",
    " \n",
    "    # критерий сходимости (разница весов, при которой алгоритм останавливается)\n",
    "    min_weight_dist = 1e-8\n",
    " \n",
    "    # зададим начальную разницу весов большим числом\n",
    "    weight_dist = np.inf\n",
    " \n",
    "    # счетчик итераций\n",
    "    iter_num = 0\n",
    " \n",
    "    np.random.seed(1234)\n",
    " \n",
    "    # ход градиентного спуска\n",
    "    while weight_dist > min_weight_dist and iter_num < max_iter:\n",
    "    \n",
    "        new_w_3 = w_3 - 2 * eta * np.dot(data.T, (np.dot(data, w_3) - target)) / target.shape[0]\n",
    "        weight_dist = np.linalg.norm(new_w_3 - w_3, ord=2)\n",
    "    \n",
    "        w_3_list.append(new_w_3.copy())\n",
    "        errors_3.append(mserror_with_reg(data, new_w_3, target, reg))\n",
    "    \n",
    "        iter_num += 1\n",
    "        w_3 = new_w_3\n",
    "        print(iter_num, mserror_with_reg(data, new_w_3, target, reg), eta)\n",
    "    \n",
    "    w_3_list = np.array(w_3_list)\n",
    " \n",
    "    print(f'В случае использования градиентного спуска функционал ошибки составляет {round(errors_3[-1], 4)}')"
   ]
  },
  {
   "cell_type": "code",
   "execution_count": 58,
   "metadata": {},
   "outputs": [
    {
     "name": "stdout",
     "output_type": "stream",
     "text": [
      "1 58.44259305246403 0.5\n",
      "2 49.48371454711943 0.5\n",
      "3 49.46183618891488 0.5\n",
      "4 49.46177461431637 0.5\n",
      "5 49.461774455383 0.5\n",
      "6 49.461774454402 0.5\n",
      "7 49.46177445446204 0.5\n",
      "8 49.461774454460446 0.5\n",
      "9 49.461774454460524 0.5\n",
      "В случае использования градиентного спуска функционал ошибки составляет 49.4618\n"
     ]
    }
   ],
   "source": [
    "descend_grade_with_rwg(data2, target2, 0.5, 10, 0.0000005)"
   ]
  },
  {
   "cell_type": "code",
   "execution_count": null,
   "metadata": {},
   "outputs": [],
   "source": []
  }
 ],
 "metadata": {
  "kernelspec": {
   "display_name": "Python 3",
   "language": "python",
   "name": "python3"
  },
  "language_info": {
   "codemirror_mode": {
    "name": "ipython",
    "version": 3
   },
   "file_extension": ".py",
   "mimetype": "text/x-python",
   "name": "python",
   "nbconvert_exporter": "python",
   "pygments_lexer": "ipython3",
   "version": "3.8.3"
  }
 },
 "nbformat": 4,
 "nbformat_minor": 4
}
